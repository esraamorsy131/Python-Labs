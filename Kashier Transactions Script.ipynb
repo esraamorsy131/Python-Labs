{
 "cells": [
  {
   "cell_type": "code",
   "execution_count": 1,
   "id": "22849ffd",
   "metadata": {},
   "outputs": [],
   "source": [
    "import pandas as pd\n",
    "import numpy as np\n",
    "import datetime as dt"
   ]
  },
  {
   "cell_type": "markdown",
   "id": "c8c54e4a",
   "metadata": {},
   "source": [
    "# Import Datasets"
   ]
  },
  {
   "cell_type": "code",
   "execution_count": 38,
   "id": "db0ab15d",
   "metadata": {},
   "outputs": [],
   "source": [
    "df_1 = pd.read_csv(\"dataset_1.csv\")\n",
    "df_2 = pd.read_csv(\"dataset_2.csv\")\n",
    "df_3 = pd.read_csv(\"dataset_3.csv\")"
   ]
  },
  {
   "cell_type": "markdown",
   "id": "200760a1",
   "metadata": {},
   "source": [
    "# concatenate all three datasets"
   ]
  },
  {
   "cell_type": "code",
   "execution_count": 39,
   "id": "6e68243d",
   "metadata": {},
   "outputs": [],
   "source": [
    "Transactions_df = pd.concat([df_1,df_2,df_3])\n",
    "Transactions_df.reset_index(drop = True , inplace = True)\n"
   ]
  },
  {
   "cell_type": "markdown",
   "id": "809ea21f",
   "metadata": {},
   "source": [
    "# Data Cleaning"
   ]
  },
  {
   "cell_type": "code",
   "execution_count": 40,
   "id": "ecb2cd9e",
   "metadata": {},
   "outputs": [
    {
     "data": {
      "text/plain": [
       "Index(['Unnamed: 0', 'index', 'date', 'amount', 'transaction_id', 'rate',\n",
       "       'flat_fee', 'product'],\n",
       "      dtype='object')"
      ]
     },
     "execution_count": 40,
     "metadata": {},
     "output_type": "execute_result"
    }
   ],
   "source": [
    "#checl columns names\n",
    "\n",
    "Transactions_df.columns"
   ]
  },
  {
   "cell_type": "code",
   "execution_count": 41,
   "id": "745a262b",
   "metadata": {},
   "outputs": [
    {
     "data": {
      "text/plain": [
       "Unnamed: 0          int64\n",
       "index               int64\n",
       "date               object\n",
       "amount              int64\n",
       "transaction_id     object\n",
       "rate              float64\n",
       "flat_fee          float64\n",
       "product            object\n",
       "dtype: object"
      ]
     },
     "execution_count": 41,
     "metadata": {},
     "output_type": "execute_result"
    }
   ],
   "source": [
    "#Check datatype\n",
    "\n",
    "Transactions_df.dtypes"
   ]
  },
  {
   "cell_type": "code",
   "execution_count": 42,
   "id": "59d8ae28",
   "metadata": {},
   "outputs": [],
   "source": [
    "#Remove unneeded columns\n",
    "\n",
    "Transactions_df.drop(columns = 'Unnamed: 0' , inplace = True)"
   ]
  },
  {
   "cell_type": "code",
   "execution_count": 43,
   "id": "e9b7e475",
   "metadata": {},
   "outputs": [
    {
     "data": {
      "text/plain": [
       "Index(['index', 'date', 'amount', 'transaction_id', 'rate', 'flat_fee',\n",
       "       'product'],\n",
       "      dtype='object')"
      ]
     },
     "execution_count": 43,
     "metadata": {},
     "output_type": "execute_result"
    }
   ],
   "source": [
    "Transactions_df.columns"
   ]
  },
  {
   "cell_type": "code",
   "execution_count": 44,
   "id": "09304a04",
   "metadata": {},
   "outputs": [
    {
     "data": {
      "text/html": [
       "<div>\n",
       "<style scoped>\n",
       "    .dataframe tbody tr th:only-of-type {\n",
       "        vertical-align: middle;\n",
       "    }\n",
       "\n",
       "    .dataframe tbody tr th {\n",
       "        vertical-align: top;\n",
       "    }\n",
       "\n",
       "    .dataframe thead th {\n",
       "        text-align: right;\n",
       "    }\n",
       "</style>\n",
       "<table border=\"1\" class=\"dataframe\">\n",
       "  <thead>\n",
       "    <tr style=\"text-align: right;\">\n",
       "      <th></th>\n",
       "      <th>index</th>\n",
       "      <th>date</th>\n",
       "      <th>amount</th>\n",
       "      <th>transaction_id</th>\n",
       "      <th>rate</th>\n",
       "      <th>flat_fee</th>\n",
       "      <th>product</th>\n",
       "    </tr>\n",
       "  </thead>\n",
       "  <tbody>\n",
       "    <tr>\n",
       "      <th>0</th>\n",
       "      <td>19734</td>\n",
       "      <td>12/05/2022 04:55:54</td>\n",
       "      <td>188</td>\n",
       "      <td>pos_1652331353995374188</td>\n",
       "      <td>0.010</td>\n",
       "      <td>2.0</td>\n",
       "      <td>pos</td>\n",
       "    </tr>\n",
       "    <tr>\n",
       "      <th>1</th>\n",
       "      <td>32238</td>\n",
       "      <td>14/08/2022 10:40:34</td>\n",
       "      <td>90</td>\n",
       "      <td>pos_1660473634248388090</td>\n",
       "      <td>0.010</td>\n",
       "      <td>2.0</td>\n",
       "      <td>pos</td>\n",
       "    </tr>\n",
       "    <tr>\n",
       "      <th>2</th>\n",
       "      <td>89439</td>\n",
       "      <td>20/06/2021 03:27:30</td>\n",
       "      <td>29123232323</td>\n",
       "      <td>pr_1624159650069115998</td>\n",
       "      <td>0.030</td>\n",
       "      <td>0.0</td>\n",
       "      <td>pr</td>\n",
       "    </tr>\n",
       "    <tr>\n",
       "      <th>3</th>\n",
       "      <td>97206</td>\n",
       "      <td>22/11/2021 06:38:37</td>\n",
       "      <td>602</td>\n",
       "      <td>pr_1637563117245903602</td>\n",
       "      <td>0.030</td>\n",
       "      <td>0.0</td>\n",
       "      <td>pr</td>\n",
       "    </tr>\n",
       "    <tr>\n",
       "      <th>4</th>\n",
       "      <td>1935</td>\n",
       "      <td>19/05/2021 22:57:45</td>\n",
       "      <td>39</td>\n",
       "      <td>pos_1621465065131486039</td>\n",
       "      <td>0.010</td>\n",
       "      <td>2.0</td>\n",
       "      <td>pos</td>\n",
       "    </tr>\n",
       "    <tr>\n",
       "      <th>...</th>\n",
       "      <td>...</td>\n",
       "      <td>...</td>\n",
       "      <td>...</td>\n",
       "      <td>...</td>\n",
       "      <td>...</td>\n",
       "      <td>...</td>\n",
       "      <td>...</td>\n",
       "    </tr>\n",
       "    <tr>\n",
       "      <th>142005</th>\n",
       "      <td>86669</td>\n",
       "      <td>20/04/2021 21:01:27</td>\n",
       "      <td>2747</td>\n",
       "      <td>pr_1618952487435648747</td>\n",
       "      <td>0.030</td>\n",
       "      <td>0.0</td>\n",
       "      <td>pr</td>\n",
       "    </tr>\n",
       "    <tr>\n",
       "      <th>142006</th>\n",
       "      <td>11127</td>\n",
       "      <td>26/01/2022 05:06:36</td>\n",
       "      <td>297</td>\n",
       "      <td>pos_1643173595606499297</td>\n",
       "      <td>0.010</td>\n",
       "      <td>2.0</td>\n",
       "      <td>pos</td>\n",
       "    </tr>\n",
       "    <tr>\n",
       "      <th>142007</th>\n",
       "      <td>5343</td>\n",
       "      <td>28/09/2021 08:43:58</td>\n",
       "      <td>281</td>\n",
       "      <td>pos_1632818637873102281</td>\n",
       "      <td>0.010</td>\n",
       "      <td>2.0</td>\n",
       "      <td>pos</td>\n",
       "    </tr>\n",
       "    <tr>\n",
       "      <th>142008</th>\n",
       "      <td>123773</td>\n",
       "      <td>06/07/2021 10:16:58</td>\n",
       "      <td>1208</td>\n",
       "      <td>pp_1625566618036380208</td>\n",
       "      <td>0.025</td>\n",
       "      <td>2.0</td>\n",
       "      <td>pp</td>\n",
       "    </tr>\n",
       "    <tr>\n",
       "      <th>142009</th>\n",
       "      <td>21417</td>\n",
       "      <td>28/05/2022 17:32:14</td>\n",
       "      <td>124</td>\n",
       "      <td>pos_1653759134448537124</td>\n",
       "      <td>0.010</td>\n",
       "      <td>2.0</td>\n",
       "      <td>pos</td>\n",
       "    </tr>\n",
       "  </tbody>\n",
       "</table>\n",
       "<p>142010 rows × 7 columns</p>\n",
       "</div>"
      ],
      "text/plain": [
       "         index                 date       amount           transaction_id  \\\n",
       "0        19734  12/05/2022 04:55:54          188  pos_1652331353995374188   \n",
       "1        32238  14/08/2022 10:40:34           90  pos_1660473634248388090   \n",
       "2        89439  20/06/2021 03:27:30  29123232323   pr_1624159650069115998   \n",
       "3        97206  22/11/2021 06:38:37          602   pr_1637563117245903602   \n",
       "4         1935  19/05/2021 22:57:45           39  pos_1621465065131486039   \n",
       "...        ...                  ...          ...                      ...   \n",
       "142005   86669  20/04/2021 21:01:27         2747   pr_1618952487435648747   \n",
       "142006   11127  26/01/2022 05:06:36          297  pos_1643173595606499297   \n",
       "142007    5343  28/09/2021 08:43:58          281  pos_1632818637873102281   \n",
       "142008  123773  06/07/2021 10:16:58         1208   pp_1625566618036380208   \n",
       "142009   21417  28/05/2022 17:32:14          124  pos_1653759134448537124   \n",
       "\n",
       "         rate  flat_fee product  \n",
       "0       0.010       2.0     pos  \n",
       "1       0.010       2.0     pos  \n",
       "2       0.030       0.0      pr  \n",
       "3       0.030       0.0      pr  \n",
       "4       0.010       2.0     pos  \n",
       "...       ...       ...     ...  \n",
       "142005  0.030       0.0      pr  \n",
       "142006  0.010       2.0     pos  \n",
       "142007  0.010       2.0     pos  \n",
       "142008  0.025       2.0      pp  \n",
       "142009  0.010       2.0     pos  \n",
       "\n",
       "[142010 rows x 7 columns]"
      ]
     },
     "execution_count": 44,
     "metadata": {},
     "output_type": "execute_result"
    }
   ],
   "source": [
    "Transactions_df"
   ]
  },
  {
   "cell_type": "code",
   "execution_count": 45,
   "id": "32034251",
   "metadata": {},
   "outputs": [
    {
     "data": {
      "text/plain": [
       "index                0\n",
       "date                 0\n",
       "amount               0\n",
       "transaction_id       0\n",
       "rate              1223\n",
       "flat_fee          1223\n",
       "product              0\n",
       "dtype: int64"
      ]
     },
     "execution_count": 45,
     "metadata": {},
     "output_type": "execute_result"
    }
   ],
   "source": [
    "#check null values\n",
    "\n",
    "Transactions_df.isna().sum()"
   ]
  },
  {
   "cell_type": "markdown",
   "id": "15bf77df",
   "metadata": {},
   "source": [
    "# Fill null values"
   ]
  },
  {
   "cell_type": "code",
   "execution_count": 47,
   "id": "a4b02839",
   "metadata": {},
   "outputs": [],
   "source": [
    "#( put flat_fee = 2 because its a constant fee for all products)\n",
    "\n",
    "Transactions_df['flat_fee'].fillna(2 , inplace = True)\n",
    "\n",
    "#( put rate value according to product type )\n",
    "\n",
    "Transactions_df.loc[(Transactions_df['product'] == 'pos') & (Transactions_df['rate'].isna()),'rate'] = 0.01\n",
    "Transactions_df.loc[(Transactions_df['product'] == 'pr') & (Transactions_df['rate'].isna()), 'rate' ] = 0.03\n",
    "Transactions_df.loc[(Transactions_df['product'] == 'pp') & (Transactions_df['rate'].isna()), 'rate'] = 0.025"
   ]
  },
  {
   "cell_type": "code",
   "execution_count": 48,
   "id": "5c106f8f",
   "metadata": {},
   "outputs": [
    {
     "data": {
      "text/plain": [
       "index             0\n",
       "date              0\n",
       "amount            0\n",
       "transaction_id    0\n",
       "rate              0\n",
       "flat_fee          0\n",
       "product           0\n",
       "dtype: int64"
      ]
     },
     "execution_count": 48,
     "metadata": {},
     "output_type": "execute_result"
    }
   ],
   "source": [
    "Transactions_df.isna().sum()"
   ]
  },
  {
   "cell_type": "code",
   "execution_count": 49,
   "id": "afecd488",
   "metadata": {},
   "outputs": [],
   "source": [
    "# Export Cleaned Data To Excel_sheet\n",
    "\n",
    "with pd.ExcelWriter('Cleaned Data.xlsx') as writer:\n",
    "    Transactions_df.to_excel(writer, sheet_name='Transactions', index=False)\n",
    "   \n"
   ]
  },
  {
   "cell_type": "code",
   "execution_count": null,
   "id": "49b618e2",
   "metadata": {},
   "outputs": [],
   "source": []
  },
  {
   "cell_type": "code",
   "execution_count": null,
   "id": "06fe8a3a",
   "metadata": {},
   "outputs": [],
   "source": []
  },
  {
   "cell_type": "code",
   "execution_count": null,
   "id": "1b9d4602",
   "metadata": {},
   "outputs": [],
   "source": []
  }
 ],
 "metadata": {
  "kernelspec": {
   "display_name": "Python 3 (ipykernel)",
   "language": "python",
   "name": "python3"
  },
  "language_info": {
   "codemirror_mode": {
    "name": "ipython",
    "version": 3
   },
   "file_extension": ".py",
   "mimetype": "text/x-python",
   "name": "python",
   "nbconvert_exporter": "python",
   "pygments_lexer": "ipython3",
   "version": "3.11.4"
  }
 },
 "nbformat": 4,
 "nbformat_minor": 5
}
